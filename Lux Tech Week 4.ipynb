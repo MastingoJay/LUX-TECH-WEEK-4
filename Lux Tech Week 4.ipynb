{
 "cells": [
  {
   "cell_type": "markdown",
   "id": "564863fb-324f-4a45-a6cc-2122a3ccba2e",
   "metadata": {},
   "source": [
    "# 1). Write a Python program to check whether a string is a palindrome or not using a stack.\n",
    "       PS: Pay attention to the specified data structure.\r\n"
   ]
  },
  {
   "cell_type": "code",
   "execution_count": 4,
   "id": "ca1d80ff-3d47-4f19-b22c-803e61179e1b",
   "metadata": {},
   "outputs": [
    {
     "name": "stdout",
     "output_type": "stream",
     "text": [
      "True\n",
      "False\n"
     ]
    }
   ],
   "source": [
    "# A palindrome is a string that reads the same backward as forward.\n",
    "def is_palindrome(s):\n",
    "    # Create a stack\n",
    "    stack = []\n",
    "    \n",
    "    # Push all characters of the string onto the stack\n",
    "    for char in s:\n",
    "        stack.append(char)\n",
    "    \n",
    "    # Check if characters from the stack match the original string\n",
    "    for char in s:\n",
    "        if char != stack.pop():\n",
    "            return False\n",
    "    \n",
    "    return True\n",
    "\n",
    "# Example usage\n",
    "print(is_palindrome(\"radar\"))\n",
    "print(is_palindrome(\"lux\"))"
   ]
  },
  {
   "cell_type": "markdown",
   "id": "a4e08878-3a6f-43dd-b092-6f2c85ba71d8",
   "metadata": {},
   "source": [
    "# 2). Explain the concept of list comprehension in Python with at least three examples."
   ]
  },
  {
   "cell_type": "code",
   "execution_count": 9,
   "id": "272885fb-3270-4f7f-86c9-650a413b423f",
   "metadata": {},
   "outputs": [
    {
     "name": "stdout",
     "output_type": "stream",
     "text": [
      "['LUX', 'TECH', 'ACADEMY']\n"
     ]
    }
   ],
   "source": [
    "#1.creating a list with all elements in uppercase \n",
    "# Original list\n",
    "mylist = ['lux', 'tech', 'academy']\n",
    "\n",
    "# Using list comprehension to create a new list with uppercase strings\n",
    "uppercase_data = [data.upper() for data in mylist]\n",
    "\n",
    "# Printing the new list\n",
    "print(uppercase_data)\n"
   ]
  },
  {
   "cell_type": "code",
   "execution_count": 11,
   "id": "015ffa03-4a10-482d-9fa0-51a16e88a458",
   "metadata": {},
   "outputs": [
    {
     "name": "stdout",
     "output_type": "stream",
     "text": [
      "[2, 4, 6, 8, 10, 12, 14, 16, 18, 20]\n"
     ]
    }
   ],
   "source": [
    "#2.Creating a List of Even Numbers\n",
    "#original list\n",
    "numbers = [1, 2, 3, 4, 5, 6,7,8,9,10,11,12,13,14,15,16,17,18,19,20]\n",
    "\n",
    "#creating new list of even numbers\n",
    "even_numbers = [num for num in numbers if num % 2 == 0]\n",
    "\n",
    "# Printing the new list\n",
    "print(even_numbers)  "
   ]
  },
  {
   "cell_type": "code",
   "execution_count": 15,
   "id": "01db92f3-9a75-4475-8c6b-91a8906fb526",
   "metadata": {},
   "outputs": [
    {
     "name": "stdout",
     "output_type": "stream",
     "text": [
      "[1, 2, 3, 4, 5, 6, 7, 8, 9, 10]\n"
     ]
    }
   ],
   "source": [
    "#3.Flattening a List of Lists\n",
    "#original list\n",
    "list_of_lists = [[1, 2], [3, 4], [5, 6],[7, 8], [9, 10]]\n",
    "\n",
    "#flattening the list\n",
    "flattened = [num for sublist in list_of_lists for num in sublist]\n",
    "\n",
    "#printing the flattened list\n",
    "print(flattened)  \n"
   ]
  },
  {
   "cell_type": "markdown",
   "id": "1cc288e4-d9f5-42e7-b6eb-a223f051ba60",
   "metadata": {},
   "source": [
    "# 3). Explain what a compound datatype is in Python with three examples."
   ]
  },
  {
   "cell_type": "code",
   "execution_count": 18,
   "id": "ba57b1a5-64d9-4579-bac3-7e1edcb30e1f",
   "metadata": {},
   "outputs": [],
   "source": [
    "#In Python, a compound datatype is a data type that can hold multiple values or elements, which can themselves be of different types. \n",
    "#These types are typically collections or containers that can store multiple elements together. \n",
    "#Compound data types include lists, tuples, dictionaries, and sets."
   ]
  },
  {
   "cell_type": "code",
   "execution_count": 20,
   "id": "14755f78-0d53-48f8-b75d-9a58461b6545",
   "metadata": {},
   "outputs": [
    {
     "name": "stdout",
     "output_type": "stream",
     "text": [
      "['Harun', 'Daisy', 'Ronald']\n"
     ]
    }
   ],
   "source": [
    "#1.Lists\n",
    "list = [\"Harun\", \"Daisy\", \"Ronald\"]\n",
    "print(list)"
   ]
  },
  {
   "cell_type": "code",
   "execution_count": 22,
   "id": "4e1a00c3-6d78-499a-9c55-510e5b61edc4",
   "metadata": {},
   "outputs": [
    {
     "name": "stdout",
     "output_type": "stream",
     "text": [
      "('Harun', 'Daisy', 'Ronald')\n"
     ]
    }
   ],
   "source": [
    "#2.Tuple-A tuple is a collection which is ordered and unchangeable.\n",
    "tupple = (\"Harun\", \"Daisy\", \"Ronald\")\n",
    "print(tupple)\n"
   ]
  },
  {
   "cell_type": "code",
   "execution_count": 24,
   "id": "01dfd882-60b3-4529-9fb2-ef6497234089",
   "metadata": {},
   "outputs": [
    {
     "name": "stdout",
     "output_type": "stream",
     "text": [
      "{'brand': 'Ford', 'model': 'Mustang', 'year': 1964}\n"
     ]
    }
   ],
   "source": [
    "#3.Dictionary-A dictionary is a collection which is ordered*, changeable and do not allow duplicates.\n",
    "thisdict =\t{\n",
    "  \"brand\": \"Ford\",\n",
    "  \"model\": \"Mustang\",\n",
    "  \"year\": 1964\n",
    "}\n",
    "print(thisdict)"
   ]
  },
  {
   "cell_type": "markdown",
   "id": "cf90cf62-09e1-4514-a2d8-4dfdf0043e73",
   "metadata": {},
   "source": [
    "# 4). Write a function that takes a string and returns a list of bigrams."
   ]
  },
  {
   "cell_type": "code",
   "execution_count": 27,
   "id": "29f780bf-49a6-466f-96d4-23118db34129",
   "metadata": {},
   "outputs": [
    {
     "name": "stdout",
     "output_type": "stream",
     "text": [
      "[('I', 'am'), ('am', 'a'), ('a', 'data'), ('data', 'analyst'), ('analyst', 'courtesy'), ('courtesy', 'of'), ('of', 'Lux'), ('Lux', 'Tech'), ('Tech', 'Academy')]\n"
     ]
    }
   ],
   "source": [
    "#A bigram is a sequence of two adjacent elements from a string.\n",
    "def get_bigrams(s):\n",
    "    # Remove any leading/trailing whitespace and split the string into words\n",
    "    words = s.split()\n",
    "    # Create bigrams\n",
    "    bigrams = [(words[i], words[i+1]) for i in range(len(words)-1)]\n",
    "    return bigrams\n",
    "\n",
    "# Example usage\n",
    "print(get_bigrams(\"I am a data analyst courtesy of Lux Tech Academy\"))"
   ]
  },
  {
   "cell_type": "markdown",
   "id": "1fffb2f7-3683-4b92-9ea3-d0371d50aaf0",
   "metadata": {},
   "source": [
    "# 5). Given a dictionary with keys as letters and values as lists of letters, write a function closest_key to find the key with the input value closest to the beginning of the list."
   ]
  },
  {
   "cell_type": "code",
   "execution_count": 32,
   "id": "67017dbc-b00d-463c-9941-6e13a73e9604",
   "metadata": {},
   "outputs": [
    {
     "name": "stdin",
     "output_type": "stream",
     "text": [
      "Enter a value:  x\n"
     ]
    },
    {
     "name": "stdout",
     "output_type": "stream",
     "text": [
      "The correct key is: b\n"
     ]
    }
   ],
   "source": [
    "def closest_key(d, value):\n",
    "    min_distance = float('inf')\n",
    "    closest = None\n",
    "    \n",
    "    for key, lst in d.items():\n",
    "        try:\n",
    "            distance = lst.index(value)\n",
    "            if distance < min_distance:\n",
    "                min_distance = distance\n",
    "                closest = key\n",
    "        except ValueError:\n",
    "            # Value is not in the list\n",
    "            continue\n",
    "    \n",
    "    return closest\n",
    "\n",
    "# Example usage\n",
    "my_dict = {\n",
    "    'a': ['m', 'q', 'p'],\n",
    "    'b': ['p', 'l', 'x'],\n",
    "    'c': ['f', 'p']\n",
    "}\n",
    "\n",
    "input_value = input(\"Enter a value: \") \n",
    "print(f\"The correct key is: {closest_key(my_dict, input_value)}\")"
   ]
  },
  {
   "cell_type": "code",
   "execution_count": null,
   "id": "6eeea628-6e21-4b97-9bdf-b99e2bd8b126",
   "metadata": {},
   "outputs": [],
   "source": []
  }
 ],
 "metadata": {
  "kernelspec": {
   "display_name": "Python 3 (ipykernel)",
   "language": "python",
   "name": "python3"
  },
  "language_info": {
   "codemirror_mode": {
    "name": "ipython",
    "version": 3
   },
   "file_extension": ".py",
   "mimetype": "text/x-python",
   "name": "python",
   "nbconvert_exporter": "python",
   "pygments_lexer": "ipython3",
   "version": "3.12.4"
  }
 },
 "nbformat": 4,
 "nbformat_minor": 5
}
